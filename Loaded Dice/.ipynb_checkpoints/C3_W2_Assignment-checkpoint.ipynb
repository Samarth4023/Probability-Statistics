{
 "cells": [
  {
   "cell_type": "markdown",
   "id": "4caafec3",
   "metadata": {},
   "source": [
    "# Loaded dice \n",
    "\n",
    "Welcome to the second assignment in the course Probability and Statistics for Machine Learning and Data Science! In this quiz-like assignment you will test your intuition about the concepts covered in the lectures by taking the example with the dice to the next level. \n",
    "\n",
    "**This assignment can be completed with just pencil and paper, or even your intuition about probability, but in many questions using the skills you're developing as a programmer may help**. "
   ]
  },
  {
   "cell_type": "markdown",
   "id": "3bff9c20",
   "metadata": {},
   "source": [
    "## 1 - Introduction\n",
    "\n",
    "You will be presented with 11 questions regarding a several dice games. Sometimes the dice is loaded, sometimes it is not. You will have clear instructions for each exercise.\n",
    "\n",
    "### 1.1 How to go through the assignment\n",
    "\n",
    "In each exercise you there will be a question about throwing some dice that may or may not be loaded. You will have to answer questions about the results of each scenario, such as calculating the expected value of the dice throw or selecting the graph that best represents the distribution of outcomes. \n",
    "\n",
    "In any case, **you will be able to solve the exercise with one of the following methods:**\n",
    "\n",
    "- **By hand:** You may make your calculations by hand, using the theory you have developed in the lectures.\n",
    "- **Using Python:** You may use the empty block of code provided to make computations and simulations, to obtain the result.\n",
    "\n",
    "After each exercise you will save your solution by running a special code cell and adding your answer. The cells contain a single line of code in the format `utils.exercise_1()` which will launch the interface in which you can save your answer. **You will save your responses to each exercise as you go, but you won't submit all your responses for grading until you submit this assignment at the end.**\n",
    "\n",
    "Let's go over an example! Before, let's import the necessary libraries."
   ]
  },
  {
   "cell_type": "markdown",
   "id": "3d256624",
   "metadata": {},
   "source": [
    "## 2 - Importing the libraries"
   ]
  },
  {
   "cell_type": "code",
   "execution_count": 1,
   "id": "da0fcf2f",
   "metadata": {},
   "outputs": [],
   "source": [
    "import numpy as np\n",
    "import pandas as pd\n",
    "import seaborn as sns\n",
    "import matplotlib.pyplot as plt\n",
    "import utils"
   ]
  },
  {
   "cell_type": "markdown",
   "id": "e1637bc9",
   "metadata": {},
   "source": [
    "## 3 - A worked example on how to complete this assignment.\n",
    "\n",
    "Now let's go over one example question, so you understand how to go through the assignment.\n",
    "\n",
    "### 3.1 Example question\n",
    "\n",
    "Question: Given a 6-sided fair dice, you throw it two times and save the result. What is the probability that the sum of your two throws is greater than 5? (Give your result with 1 decimal place).\n",
    "\n",
    "After the question, you will see the following block of code."
   ]
  },
  {
   "cell_type": "code",
   "execution_count": 2,
   "id": "c789233e",
   "metadata": {},
   "outputs": [],
   "source": [
    "# You can use this cell for your calculations (not graded)\n"
   ]
  },
  {
   "cell_type": "markdown",
   "id": "02528065",
   "metadata": {},
   "source": [
    "You may use it as you wish to solve the exercise. Or you can just ignore it and use pencil and pen to solve. It is up to you! **You will only save your final answer**. \n",
    "\n",
    "### 3.2 Solving using simulations in Python\n",
    "\n",
    "Let's solve this question in both ways. First, using Python. You may check the ungraded lab Dice Simulations that appears right before this assignment to help you simulate dice throws. Remember that, to get a good approximation, you need to simulate it a lot of times! You will see why this is true in the following weeks, but this is quite intuitive."
   ]
  },
  {
   "cell_type": "code",
   "execution_count": 3,
   "id": "309a3457",
   "metadata": {},
   "outputs": [
    {
     "name": "stdout",
     "output_type": "stream",
     "text": [
      "The probability by this simulation is: 0.719\n"
     ]
    }
   ],
   "source": [
    "# You can use this cell for your calculations (not graded)\n",
    "\n",
    "# This list represents each dice side\n",
    "dice = [1,2,3,4,5,6]\n",
    "\n",
    "# The idea is to randomly choose one element from this list three times and sum them. \n",
    "# Each time we choose, it is as if we had thrown a dice and the side is the chosen number.\n",
    "# This list will store the sum for each iteration. The idea is to repeat this experiment several times.\n",
    "sum_results = []\n",
    "\n",
    "number_iterations = 1000\n",
    "\n",
    "# Setting a random seed just for reproducibility\n",
    "np.random.seed(42)\n",
    "# It will play this game number_iteration times\n",
    "for i in range(number_iterations):\n",
    "    # Throw the first dice\n",
    "    throw_1 = np.random.choice(dice)\n",
    "    # Throw the second dice\n",
    "    throw_2 = np.random.choice(dice)\n",
    "    # Sum the result\n",
    "    sum_throw = throw_1 + throw_2\n",
    "    # Append to the sum_result list\n",
    "    sum_results.append(sum_throw)\n",
    "\n",
    "# After recording all the sums, the actual probability will be very close to the proportion among every sum greater than 10 in the sum_results list.\n",
    "greater_5_count = 0\n",
    "\n",
    "for x in sum_results:\n",
    "    if x > 5:\n",
    "        greater_5_count += 1\n",
    "\n",
    "probability = greater_5_count/len(sum_results)    \n",
    "print(f\"The probability by this simulation is: {probability}\")"
   ]
  },
  {
   "cell_type": "markdown",
   "id": "37524317",
   "metadata": {},
   "source": [
    "So the result you would get, rounding in to decimal place, would be 0.7! Let's solve it \"by hand\".\n",
    "\n",
    "### 3.3 Solving using the theory\n",
    "\n",
    "When throwing two dice, there are $36$ possible outcomes:\n",
    "\n",
    "$$(1,1), (1,2), \\ldots, (6,6)$$\n",
    "\n",
    "You must count how many of them lead to a sum greater than 5. They are:\n",
    "\n",
    "* If the first throw is $1$, there are $2$ possibilities for the second throw: 5 or 6.\n",
    "* If the first throw is $2$, there are $3$ possibilities for the second throw: 4, 5 or 6.\n",
    "* If the first throw is $3$, there are $4$ possibilities for the second throw: 3, 4, 5 or 6.\n",
    "* If the first throw is $4$, there are $5$ possibilities for the second throw: 2, 3, 4, 5 or 6.\n",
    "* If the first throw is $5$, there are $6$ possibilities for the second throw: 1, 2, 3, 4, 5 or 6.\n",
    "* If the first throw is $6$, there are $6$ possibilities for the second throw: 1, 2, 3, 4, 5 or 6.\n",
    "\n",
    "So, in total there are $2 + 3 + 4 + 5 + 6 + 6 = 26$, possibilities that sum greater than 5.\n",
    "\n",
    "The probability is then $\\frac{26}{36} \\approx 0.72$. Rounding it to 1 decimal place, the result is also 0.7!\n"
   ]
  },
  {
   "cell_type": "markdown",
   "id": "29b9f3ed",
   "metadata": {},
   "source": [
    "### 3.4 Saving your answer\n",
    "\n",
    "Once you get your answer in hands, it is time to save it. Run the next code below to see what it will look like. You just add your answer as requested and click on \"Save your answer!\""
   ]
  },
  {
   "cell_type": "code",
   "execution_count": 4,
   "id": "38539358",
   "metadata": {},
   "outputs": [
    {
     "data": {
      "application/vnd.jupyter.widget-view+json": {
       "model_id": "72119bad804d46ec850c99d4be1fb9b2",
       "version_major": 2,
       "version_minor": 0
      },
      "text/plain": [
       "FloatText(value=0.0, description='Probability:')"
      ]
     },
     "metadata": {},
     "output_type": "display_data"
    },
    {
     "data": {
      "application/vnd.jupyter.widget-view+json": {
       "model_id": "4e7609e849cf42d9b00114d9a3ba9180",
       "version_major": 2,
       "version_minor": 0
      },
      "text/plain": [
       "Button(button_style='success', description='Save your answer!', style=ButtonStyle())"
      ]
     },
     "metadata": {},
     "output_type": "display_data"
    },
    {
     "data": {
      "application/vnd.jupyter.widget-view+json": {
       "model_id": "e44fb1cfb91a45c3bcb369fa59212340",
       "version_major": 2,
       "version_minor": 0
      },
      "text/plain": [
       "Output()"
      ]
     },
     "metadata": {},
     "output_type": "display_data"
    }
   ],
   "source": [
    "utils.exercise_example()"
   ]
  },
  {
   "cell_type": "markdown",
   "id": "73d4776c",
   "metadata": {},
   "source": [
    "And that's it! Once you save one question, you can go to the next one. If you want to change your solution, just run the code again and input the new solution, it will overwrite the previous one. At the end of the assignment, you will be able to check if you have forgotten to save any question. \n",
    "\n",
    "Once you finish the assignment, you may submit it as you usually would. Your most recently save answers to each exercise will then be graded."
   ]
  },
  {
   "cell_type": "markdown",
   "id": "4546a127",
   "metadata": {},
   "source": [
    "## 4 - Some concept clarifications 🎲🎲🎲\n",
    "\n",
    "During this assignment you will be presented with various scenarios that involve dice. Usually dice can have different numbers of sides and can be either fair or loaded.\n",
    "\n",
    "- A fair dice has equal probability of landing on every side.\n",
    "- A loaded dice does not have equal probability of landing on every side. Usually one (or more) sides have a greater probability of showing up than the rest.\n",
    "\n",
    "Alright, that's all your need to know to complete this assignment. Time to start rolling some dice!"
   ]
  },
  {
   "cell_type": "markdown",
   "id": "c8f09f02",
   "metadata": {},
   "source": [
    "## Exercise 1:\n",
    "\n"
   ]
  },
  {
   "cell_type": "markdown",
   "id": "3510c610",
   "metadata": {},
   "source": [
    "Given a 6-sided fair dice (all of the sides have equal probability of showing up), compute the mean and variance for the probability distribution that models said dice. The next figure shows you a visual represenatation of said distribution:\n",
    "\n",
    "<img src=\"./images/fair_dice.png\" style=\"height: 300px;\"/>\n",
    "\n",
    "**Submission considerations:**\n",
    "- Submit your answers as floating point numbers with three digits after the decimal point\n",
    "- Example: To submit the value of 1/4 enter 0.250"
   ]
  },
  {
   "cell_type": "markdown",
   "id": "5ee9b479",
   "metadata": {},
   "source": [
    "Hints: \n",
    "- You can use [np.random.choice](https://numpy.org/doc/stable/reference/random/generated/numpy.random.choice.html) to simulate a fair dice.\n",
    "- You can use [np.mean](https://numpy.org/doc/stable/reference/generated/numpy.mean.html) and [np.var](https://numpy.org/doc/stable/reference/generated/numpy.var.html) to compute the mean and variance of a numpy array."
   ]
  },
  {
   "cell_type": "code",
   "execution_count": 5,
   "id": "df437e8e",
   "metadata": {},
   "outputs": [
    {
     "name": "stdout",
     "output_type": "stream",
     "text": [
      "Mean: 3.487\n",
      "Variance: 2.930\n"
     ]
    }
   ],
   "source": [
    "# You can use this cell for your calculations (not graded)\n",
    "\n",
    "# Simulate rolling a 6-sided fair die 10000 times\n",
    "dice_rolls = np.random.choice([1, 2, 3, 4, 5, 6], size=10000, replace=True)\n",
    "\n",
    "# Compute the mean\n",
    "mean = np.mean(dice_rolls)\n",
    "\n",
    "# Compute the variance\n",
    "variance = np.var(dice_rolls)\n",
    "\n",
    "# Print the results, rounded to 3 decimal places\n",
    "print(f\"Mean: {mean:.3f}\")\n",
    "print(f\"Variance: {variance:.3f}\")"
   ]
  },
  {
   "cell_type": "code",
   "execution_count": 6,
   "id": "db9477e7",
   "metadata": {},
   "outputs": [
    {
     "data": {
      "application/vnd.jupyter.widget-view+json": {
       "model_id": "86acbc892b5b48f482dd8c261c67d340",
       "version_major": 2,
       "version_minor": 0
      },
      "text/plain": [
       "FloatText(value=0.0, description='Mean:')"
      ]
     },
     "metadata": {},
     "output_type": "display_data"
    },
    {
     "data": {
      "application/vnd.jupyter.widget-view+json": {
       "model_id": "0619c148342544fcb1cc01cd4261cee3",
       "version_major": 2,
       "version_minor": 0
      },
      "text/plain": [
       "FloatText(value=0.0, description='Variance:')"
      ]
     },
     "metadata": {},
     "output_type": "display_data"
    },
    {
     "data": {
      "application/vnd.jupyter.widget-view+json": {
       "model_id": "66bf8e0747234b48a83be79b4693e5e1",
       "version_major": 2,
       "version_minor": 0
      },
      "text/plain": [
       "Button(button_style='success', description='Save your answer!', style=ButtonStyle())"
      ]
     },
     "metadata": {},
     "output_type": "display_data"
    },
    {
     "data": {
      "application/vnd.jupyter.widget-view+json": {
       "model_id": "b4d55414efb0433abbd51bdad2046690",
       "version_major": 2,
       "version_minor": 0
      },
      "text/plain": [
       "Output()"
      ]
     },
     "metadata": {},
     "output_type": "display_data"
    }
   ],
   "source": [
    "# Run this cell to submit your answer\n",
    "utils.exercise_1()"
   ]
  },
  {
   "cell_type": "markdown",
   "id": "d43dcbbd",
   "metadata": {},
   "source": [
    "## Exercise 2:\n",
    "\n",
    "Now suppose you are throwing the dice (same dice as in the previous exercise) two times and recording the sum of each throw. Which of the following `probability mass functions` will be the one you should get?\n",
    "\n",
    "<table><tr>\n",
    "<td> <img src=\"./images/hist_sum_6_side.png\" style=\"height: 300px;\"/> </td>\n",
    "<td> <img src=\"./images/hist_sum_5_side.png\" style=\"height: 300px;\"/> </td>\n",
    "<td> <img src=\"./images/hist_sum_6_uf.png\" style=\"height: 300px;\"/> </td>\n",
    "</tr></table>\n"
   ]
  },
  {
   "cell_type": "markdown",
   "id": "605c58c0",
   "metadata": {},
   "source": [
    "Hints: \n",
    "- You can use numpy arrays to hold the results of many throws.\n",
    "- You can sum to numpy arrays by using the `+` operator like this: `sum = first_throw + second_throw`\n",
    "- To simulate multiple throws of a dice you can use list comprehension or a for loop"
   ]
  },
  {
   "cell_type": "code",
   "execution_count": 7,
   "id": "e9a8b2ed",
   "metadata": {},
   "outputs": [
    {
     "data": {
      "image/png": "[encoded data removed]",
      "text/plain": [
       "<Figure size 640x480 with 1 Axes>"
      ]
     },
     "metadata": {},
     "output_type": "display_data"
    }
   ],
   "source": [
    "# You can use this cell for your calculations (not graded)\n",
    "import numpy as np\n",
    "import matplotlib.pyplot as plt\n",
    "\n",
    "# Set the number of simulations\n",
    "num_simulations = 10000\n",
    "\n",
    "# Simulate throwing the dice twice\n",
    "first_throw = np.random.randint(1, 7, size=num_simulations)  # Random numbers from 1 to 6\n",
    "second_throw = np.random.randint(1, 7, size=num_simulations)\n",
    "\n",
    "# Calculate the sums of the two throws\n",
    "sums = first_throw + second_throw\n",
    "\n",
    "# Count the occurrences of each sum\n",
    "unique, counts = np.unique(sums, return_counts=True)\n",
    "\n",
    "# Calculate probabilities\n",
    "probabilities = counts / num_simulations\n",
    "\n",
    "# Plotting the probability mass function\n",
    "plt.bar(unique, probabilities, alpha=0.7)\n",
    "plt.xlabel('Sum of Dice Throws')\n",
    "plt.ylabel('Probability')\n",
    "plt.title('Probability Mass Function of Dice Throws')\n",
    "plt.xticks(unique)\n",
    "plt.grid(axis='y')\n",
    "plt.show()"
   ]
  },
  {
   "cell_type": "code",
   "execution_count": 8,
   "id": "d4d5dcf9",
   "metadata": {},
   "outputs": [
    {
     "data": {
      "application/vnd.jupyter.widget-view+json": {
       "model_id": "65256fccd40141a6a16d7809a0dbf0c8",
       "version_major": 2,
       "version_minor": 0
      },
      "text/plain": [
       "ToggleButtons(description='Your answer:', options=('left', 'center', 'right'), value='left')"
      ]
     },
     "metadata": {},
     "output_type": "display_data"
    },
    {
     "data": {
      "application/vnd.jupyter.widget-view+json": {
       "model_id": "7d7bff0f13ca4c4ba544ac9ead70ef44",
       "version_major": 2,
       "version_minor": 0
      },
      "text/plain": [
       "Button(button_style='success', description='Save your answer!', style=ButtonStyle())"
      ]
     },
     "metadata": {},
     "output_type": "display_data"
    },
    {
     "data": {
      "application/vnd.jupyter.widget-view+json": {
       "model_id": "1e29a9c19903456d957ec548f3525a60",
       "version_major": 2,
       "version_minor": 0
      },
      "text/plain": [
       "Output()"
      ]
     },
     "metadata": {},
     "output_type": "display_data"
    }
   ],
   "source": [
    "# Run this cell to submit your answer\n",
    "utils.exercise_2()"
   ]
  },
  {
   "cell_type": "markdown",
   "id": "adfb889c",
   "metadata": {},
   "source": [
    "## Exercise 3:\n",
    "\n",
    "Given a fair 4-sided dice, you throw it two times and record the sum. The figure on the left shows the probabilities of the dice landing on each side and the right figure the histogram of the sum. Fill out the probabilities of each sum (notice that the distribution of the sum is symetrical so you only need to input 4 values in total):\n",
    "\n",
    "<img src=\"./images/4_side_hists.png\" style=\"height: 300px;\"/>\n",
    "\n",
    "**Submission considerations:**\n",
    "- Submit your answers as floating point numbers with three digits after the decimal point\n",
    "- Example: To submit the value of 1/4 enter 0.250"
   ]
  },
  {
   "cell_type": "markdown",
   "id": "8560b74c",
   "metadata": {},
   "source": [
    "To calculate the probabilities of sums when throwing a fair 4-sided die (also known as a tetrahedron or d4) two times, we follow these steps:\n",
    "\n",
    "### Possible Outcomes\n",
    "\n",
    "1. **Possible Outcomes**: When rolling a 4-sided die, the possible outcomes for each die are \\(1, 2, 3, 4\\). When rolling two dice, the sums can range from \\(2\\) (1 + 1) to \\(8\\) (4 + 4).\n",
    "\n",
    "2. **Total Outcomes**: There are \\(4 \\times 4 = 16\\) possible outcomes when rolling two 4-sided dice.\n",
    "\n",
    "### Sums and Their Frequencies\n",
    "\n",
    "We can count how many combinations lead to each possible sum:\n",
    "\n",
    "- **Sum = 2**: \n",
    "  - (1, 1) → 1 way\n",
    "\n",
    "- **Sum = 3**: \n",
    "  - (1, 2), (2, 1) → 2 ways\n",
    "\n",
    "- **Sum = 4**: \n",
    "  - (1, 3), (2, 2), (3, 1) → 3 ways\n",
    "\n",
    "- **Sum = 5**: \n",
    "  - (1, 4), (2, 3), (3, 2), (4, 1) → 4 ways\n",
    "\n",
    "- **Sum = 6**: \n",
    "  - (2, 4), (3, 3), (4, 2) → 3 ways\n",
    "\n",
    "- **Sum = 7**: \n",
    "  - (3, 4), (4, 3) → 2 ways\n",
    "\n",
    "- **Sum = 8**: \n",
    "  - (4, 4) → 1 way\n",
    "\n",
    "### Probabilities\n",
    "\n",
    "Now, we can calculate the probabilities for each sum:\n",
    "\n",
    "- **Probability of Sum = 2**:\n",
    "  \\[\n",
    "  P(2) = \\frac{1}{16} = 0.0625 \\approx 0.063\n",
    "  \\]\n",
    "\n",
    "- **Probability of Sum = 3**:\n",
    "  \\[\n",
    "  P(3) = \\frac{2}{16} = 0.125 \\approx 0.125\n",
    "  \\]\n",
    "\n",
    "- **Probability of Sum = 4**:\n",
    "  \\[\n",
    "  P(4) = \\frac{3}{16} = 0.1875 \\approx 0.188\n",
    "  \\]\n",
    "\n",
    "- **Probability of Sum = 5**:\n",
    "  \\[\n",
    "  P(5) = \\frac{4}{16} = 0.25 = 0.250\n",
    "  \\]\n",
    "\n",
    "- **Probability of Sum = 6**:\n",
    "  \\[\n",
    "  P(6) = \\frac{3}{16} = 0.1875 \\approx 0.188\n",
    "  \\]\n",
    "\n",
    "- **Probability of Sum = 7**:\n",
    "  \\[\n",
    "  P(7) = \\frac{2}{16} = 0.125 \\approx 0.125\n",
    "  \\]\n",
    "\n",
    "- **Probability of Sum = 8**:\n",
    "  \\[\n",
    "  P(8) = \\frac{1}{16} = 0.0625 \\approx 0.063\n",
    "  \\]\n",
    "\n",
    "### Final Probabilities to Submit\n",
    "\n",
    "Given the symmetry of the distribution, we only need the probabilities for the sums from 2 to 5 (as the others mirror them):\n",
    "\n",
    "- \\(P(2) \\approx 0.063\\)\n",
    "- \\(P(3) \\approx 0.125\\)\n",
    "- \\(P(4) \\approx 0.188\\)\n",
    "- \\(P(5) = 0.250\\)\n",
    "\n",
    "### Submission Values\n",
    "\n",
    "So the final values to submit for the sums \\(2\\), \\(3\\), \\(4\\), and \\(5\\) are:\n",
    "\n",
    "- **0.063**\n",
    "- **0.125**\n",
    "- **0.188**\n",
    "- **0.250**"
   ]
  },
  {
   "cell_type": "code",
   "execution_count": 9,
   "id": "e0a24beb",
   "metadata": {},
   "outputs": [
    {
     "data": {
      "application/vnd.jupyter.widget-view+json": {
       "model_id": "64bd8b2e538c4afc96dd80f14a9cdfd6",
       "version_major": 2,
       "version_minor": 0
      },
      "text/plain": [
       "FloatText(value=0.0, description='P for sum=2|8', style=DescriptionStyle(description_width='initial'))"
      ]
     },
     "metadata": {},
     "output_type": "display_data"
    },
    {
     "data": {
      "application/vnd.jupyter.widget-view+json": {
       "model_id": "c014704774ab411bb99d223674eb9550",
       "version_major": 2,
       "version_minor": 0
      },
      "text/plain": [
       "FloatText(value=0.0, description='P for sum=3|7:', style=DescriptionStyle(description_width='initial'))"
      ]
     },
     "metadata": {},
     "output_type": "display_data"
    },
    {
     "data": {
      "application/vnd.jupyter.widget-view+json": {
       "model_id": "9d3c6a9ad65e4fabb9225fb12f66bb2f",
       "version_major": 2,
       "version_minor": 0
      },
      "text/plain": [
       "FloatText(value=0.0, description='P for sum=4|6:', style=DescriptionStyle(description_width='initial'))"
      ]
     },
     "metadata": {},
     "output_type": "display_data"
    },
    {
     "data": {
      "application/vnd.jupyter.widget-view+json": {
       "model_id": "01e93fe120c548ba9b869ee0277e8e07",
       "version_major": 2,
       "version_minor": 0
      },
      "text/plain": [
       "FloatText(value=0.0, description='P for sum=5:', style=DescriptionStyle(description_width='initial'))"
      ]
     },
     "metadata": {},
     "output_type": "display_data"
    },
    {
     "data": {
      "application/vnd.jupyter.widget-view+json": {
       "model_id": "4050f30ef584470b8b7e1fd621b6cb24",
       "version_major": 2,
       "version_minor": 0
      },
      "text/plain": [
       "Button(button_style='success', description='Save your answer!', style=ButtonStyle())"
      ]
     },
     "metadata": {},
     "output_type": "display_data"
    },
    {
     "data": {
      "application/vnd.jupyter.widget-view+json": {
       "model_id": "388939067dd1419194ddbea8fbd2ca0c",
       "version_major": 2,
       "version_minor": 0
      },
      "text/plain": [
       "Output()"
      ]
     },
     "metadata": {},
     "output_type": "display_data"
    }
   ],
   "source": [
    "# Run this cell to submit your answer\n",
    "utils.exercise_3()"
   ]
  },
  {
   "cell_type": "markdown",
   "id": "108837bd",
   "metadata": {},
   "source": [
    "## Exercise 4:\n",
    "\n",
    "Using the same scenario as in the previous exercise. Compute the mean and variance of the sum of the two throws  and the covariance between the first and the second throw:\n",
    "\n",
    "<img src=\"./images/4_sided_hist_no_prob.png\" style=\"height: 300px;\"/>\n",
    "\n",
    "\n",
    "Hints:\n",
    "- You can use [np.cov](https://numpy.org/doc/stable/reference/generated/numpy.cov.html) to compute the covariance of two numpy arrays (this may not be needed for this particular exercise)."
   ]
  },
  {
   "cell_type": "code",
   "execution_count": 10,
   "id": "f4eadc3c",
   "metadata": {},
   "outputs": [
    {
     "data": {
      "text/plain": [
       "(5.01, 2.459900000000001, 0)"
      ]
     },
     "execution_count": 10,
     "metadata": {},
     "output_type": "execute_result"
    }
   ],
   "source": [
    "import numpy as np\n",
    "\n",
    "# Define the probabilities for each sum from previous calculations\n",
    "probabilities = {\n",
    "    2: 0.063,\n",
    "    3: 0.125,\n",
    "    4: 0.188,\n",
    "    5: 0.250,\n",
    "    6: 0.188,\n",
    "    7: 0.125,\n",
    "    8: 0.063\n",
    "}\n",
    "\n",
    "# Possible sums\n",
    "sums = np.array(list(probabilities.keys()))\n",
    "probs = np.array(list(probabilities.values()))\n",
    "\n",
    "# Calculate the mean\n",
    "mean_sum = np.sum(sums * probs)\n",
    "\n",
    "# Calculate E[X^2] for variance\n",
    "E_X_squared = np.sum((sums ** 2) * probs)\n",
    "\n",
    "# Calculate variance\n",
    "variance_sum = E_X_squared - (mean_sum ** 2)\n",
    "\n",
    "# Calculate the expected value of the first and second throws\n",
    "mean_single_throw = np.mean([1, 2, 3, 4])  # Mean of a single die throw\n",
    "\n",
    "# Since both throws are identical and independent:\n",
    "E_X = mean_single_throw\n",
    "E_Y = mean_single_throw\n",
    "\n",
    "# Calculate covariance\n",
    "# The covariance of two independent variables is zero, since their covariance does not change together\n",
    "covariance = 0  # or np.cov(np.random.randint(1, 5, 10000), np.random.randint(1, 5, 10000))[0, 1]\n",
    "\n",
    "# Results\n",
    "mean_sum, variance_sum, covariance"
   ]
  },
  {
   "cell_type": "code",
   "execution_count": 11,
   "id": "4e662b9b",
   "metadata": {},
   "outputs": [
    {
     "data": {
      "application/vnd.jupyter.widget-view+json": {
       "model_id": "73d81c1ec4084d7fa15ec379a650ea0c",
       "version_major": 2,
       "version_minor": 0
      },
      "text/plain": [
       "FloatText(value=0.0, description='Mean:')"
      ]
     },
     "metadata": {},
     "output_type": "display_data"
    },
    {
     "data": {
      "application/vnd.jupyter.widget-view+json": {
       "model_id": "d9b480b4044d41a19e5c7f657fb8c307",
       "version_major": 2,
       "version_minor": 0
      },
      "text/plain": [
       "FloatText(value=0.0, description='Variance:')"
      ]
     },
     "metadata": {},
     "output_type": "display_data"
    },
    {
     "data": {
      "application/vnd.jupyter.widget-view+json": {
       "model_id": "4794bcd882ec4840b6e7d70ebfa3c093",
       "version_major": 2,
       "version_minor": 0
      },
      "text/plain": [
       "FloatText(value=0.0, description='Covariance:')"
      ]
     },
     "metadata": {},
     "output_type": "display_data"
    },
    {
     "data": {
      "application/vnd.jupyter.widget-view+json": {
       "model_id": "a1c4ba1dfcdc42aea81d7210a376005d",
       "version_major": 2,
       "version_minor": 0
      },
      "text/plain": [
       "Button(button_style='success', description='Save your answer!', style=ButtonStyle())"
      ]
     },
     "metadata": {},
     "output_type": "display_data"
    },
    {
     "data": {
      "application/vnd.jupyter.widget-view+json": {
       "model_id": "364dd30038354557a8b122387db5851a",
       "version_major": 2,
       "version_minor": 0
      },
      "text/plain": [
       "Output()"
      ]
     },
     "metadata": {},
     "output_type": "display_data"
    }
   ],
   "source": [
    "# Run this cell to submit your answer\n",
    "utils.exercise_4()"
   ]
  },
  {
   "cell_type": "markdown",
   "id": "714e099b",
   "metadata": {},
   "source": [
    "## Exercise 5:\n",
    "\n",
    "\n",
    "Now suppose you are have a loaded 4-sided dice (it is loaded so that it lands twice as often on side 2 compared to the other sides): \n",
    "\n",
    "\n",
    "<img src=\"./images/4_side_uf.png\" style=\"height: 300px;\"/>\n",
    "\n",
    "You are throwing it two times and recording the sum of each throw. Which of the following `probability mass functions` will be the one you should get?\n",
    "\n",
    "<table><tr>\n",
    "<td> <img src=\"./images/hist_sum_4_4l.png\" style=\"height: 300px;\"/> </td>\n",
    "<td> <img src=\"./images/hist_sum_4_3l.png\" style=\"height: 300px;\"/> </td>\n",
    "<td> <img src=\"./images/hist_sum_4_uf.png\" style=\"height: 300px;\"/> </td>\n",
    "</tr></table>"
   ]
  },
  {
   "cell_type": "markdown",
   "id": "ecb27c1b",
   "metadata": {},
   "source": [
    "Hints: \n",
    "- You can use the `p` parameter of [np.random.choice](https://numpy.org/doc/stable/reference/random/generated/numpy.random.choice.html) to simulate a loaded dice."
   ]
  },
  {
   "cell_type": "code",
   "execution_count": 12,
   "id": "a35573ec",
   "metadata": {},
   "outputs": [
    {
     "name": "stdout",
     "output_type": "stream",
     "text": [
      "Sum of probabilities: 1.0\n",
      "Sum: 2, Probability: 0.027\n",
      "Sum: 3, Probability: 0.113\n",
      "Sum: 4, Probability: 0.169\n",
      "Sum: 5, Probability: 0.215\n",
      "Sum: 6, Probability: 0.250\n",
      "Sum: 7, Probability: 0.112\n",
      "Sum: 8, Probability: 0.115\n"
     ]
    },
    {
     "data": {
      "image/png": "[encoded data removed]",
      "text/plain": [
       "<Figure size 640x480 with 1 Axes>"
      ]
     },
     "metadata": {},
     "output_type": "display_data"
    }
   ],
   "source": [
    "import numpy as np\n",
    "import matplotlib.pyplot as plt\n",
    "\n",
    "# Define the sides of the die and their probabilities\n",
    "sides = [1, 2, 3, 4]\n",
    "probabilities = [1/6, 2/6, 1/6, 2/6]  # Corrected probabilities so they sum to 1\n",
    "\n",
    "# Check if probabilities sum to 1\n",
    "print(\"Sum of probabilities:\", sum(probabilities))\n",
    "\n",
    "# Set the number of simulations\n",
    "num_simulations = 10000\n",
    "\n",
    "# Simulate throwing the loaded die twice\n",
    "first_throw = np.random.choice(sides, size=num_simulations, p=probabilities)\n",
    "second_throw = np.random.choice(sides, size=num_simulations, p=probabilities)\n",
    "\n",
    "# Calculate the sums of the two throws\n",
    "sums = first_throw + second_throw\n",
    "\n",
    "# Count the occurrences of each sum\n",
    "unique, counts = np.unique(sums, return_counts=True)\n",
    "\n",
    "# Calculate probabilities for each sum\n",
    "probabilities_of_sums = counts / num_simulations\n",
    "\n",
    "# Display results\n",
    "for sum_value, prob in zip(unique, probabilities_of_sums):\n",
    "    print(f\"Sum: {sum_value}, Probability: {prob:.3f}\")\n",
    "\n",
    "# Plotting the probability mass function\n",
    "plt.bar(unique, probabilities_of_sums, alpha=0.7)\n",
    "plt.xlabel('Sum of Loaded Dice Throws')\n",
    "plt.ylabel('Probability')\n",
    "plt.title('Probability Mass Function of Loaded Dice Throws')\n",
    "plt.xticks(unique)\n",
    "plt.grid(axis='y')\n",
    "plt.show()"
   ]
  },
  {
   "cell_type": "code",
   "execution_count": 15,
   "id": "3104e647",
   "metadata": {},
   "outputs": [
    {
     "data": {
      "application/vnd.jupyter.widget-view+json": {
       "model_id": "26abdf6feda3448bb49b064dd1aec6a0",
       "version_major": 2,
       "version_minor": 0
      },
      "text/plain": [
       "ToggleButtons(description='Your answer:', options=('left', 'center', 'right'), value='left')"
      ]
     },
     "metadata": {},
     "output_type": "display_data"
    },
    {
     "data": {
      "application/vnd.jupyter.widget-view+json": {
       "model_id": "1692660c750548dd8df3ded406490bde",
       "version_major": 2,
       "version_minor": 0
      },
      "text/plain": [
       "Button(button_style='success', description='Save your answer!', style=ButtonStyle())"
      ]
     },
     "metadata": {},
     "output_type": "display_data"
    },
    {
     "data": {
      "application/vnd.jupyter.widget-view+json": {
       "model_id": "f085e6c17b6d4763880a54ac812d4045",
       "version_major": 2,
       "version_minor": 0
      },
      "text/plain": [
       "Output()"
      ]
     },
     "metadata": {},
     "output_type": "display_data"
    }
   ],
   "source": [
    "# Run this cell to submit your answer\n",
    "utils.exercise_5()"
   ]
  },
  {
   "cell_type": "markdown",
   "id": "0d0f3429",
   "metadata": {},
   "source": [
    "## Exercise 6:\n",
    "\n",
    "You have a 6-sided dice that is loaded so that it lands twice as often on side 3 compared to the other sides:\n",
    "\n",
    "<img src=\"./images/loaded_6_side.png\" style=\"height: 300px;\"/>\n",
    "\n",
    "You record the sum of throwing it twice. What is the highest value (of the sum) that will yield a cumulative probability lower or equal to 0.5?\n",
    "\n",
    "<img src=\"./images/loaded_6_cdf.png\" style=\"height: 300px;\"/>\n",
    "\n",
    "Hints:\n",
    "- The probability of side 3 is equal to $\\frac{2}{7}$"
   ]
  },
  {
   "cell_type": "markdown",
   "id": "bd1e247d",
   "metadata": {},
   "source": [
    "To find the highest sum of throwing a loaded 6-sided die twice, where side 3 lands twice as often as the others, we need to first determine the probabilities for each side of the die. \n",
    "\n",
    "### Probability Distribution\n",
    "\n",
    "Given that side 3 is loaded:\n",
    "\n",
    "- Let \\( p_3 = \\frac{2}{7} \\) (probability for side 3)\n",
    "- The remaining sides (1, 2, 4, 5, 6) will share the remaining probability equally. Since the total probability must equal 1, we can calculate the probabilities for the other sides:\n",
    "\n",
    "\\[\n",
    "p_1 + p_2 + p_4 + p_5 + p_6 + p_3 = 1\n",
    "\\]\n",
    "\n",
    "\\[\n",
    "p_1 + p_2 + p_4 + p_5 + p_6 + \\frac{2}{7} = 1\n",
    "\\]\n",
    "\n",
    "This means:\n",
    "\\[\n",
    "p_1 + p_2 + p_4 + p_5 + p_6 = 1 - \\frac{2}{7} = \\frac{5}{7}\n",
    "\\]\n",
    "\n",
    "Since there are 5 sides, the probability for each of the other sides is:\n",
    "\n",
    "\\[\n",
    "p_1 = p_2 = p_4 = p_5 = p_6 = \\frac{5/7}{5} = \\frac{1}{7}\n",
    "\\]\n",
    "\n",
    "### Summary of Probabilities\n",
    "\n",
    "- \\( p_1 = \\frac{1}{7} \\)\n",
    "- \\( p_2 = \\frac{1}{7} \\)\n",
    "- \\( p_3 = \\frac{2}{7} \\)\n",
    "- \\( p_4 = \\frac{1}{7} \\)\n",
    "- \\( p_5 = \\frac{1}{7} \\)\n",
    "- \\( p_6 = \\frac{1}{7} \\)\n",
    "\n",
    "### Cumulative Probability Calculation\n",
    "\n",
    "Now we need to calculate the possible sums when throwing the die twice. The possible sums range from \\(2\\) (1 + 1) to \\(12\\) (6 + 6).\n",
    "\n",
    "### Possible Sums and Their Probabilities\n",
    "\n",
    "We can calculate the probabilities of each possible sum:\n",
    "\n",
    "| Sum | Combinations                     | Probability Calculation                                        |\n",
    "|-----|----------------------------------|-------------------------------------------------------------|\n",
    "| 2   | (1, 1)                           | \\( \\frac{1}{7} \\times \\frac{1}{7} = \\frac{1}{49} \\)        |\n",
    "| 3   | (1, 2), (2, 1)                  | \\( 2 \\times \\frac{1}{7} \\times \\frac{1}{7} = \\frac{2}{49} \\) |\n",
    "| 4   | (1, 3), (3, 1), (2, 2)          | \\( 2 \\times \\frac{1}{7} \\times \\frac{2}{7} + \\frac{1}{7} \\times \\frac{1}{7} = \\frac{4}{49} + \\frac{1}{49} = \\frac{5}{49} \\) |\n",
    "| 5   | (1, 4), (4, 1), (2, 3), (3, 2)  | \\( 2 \\times \\frac{1}{7} \\times \\frac{1}{7} + 2 \\times \\frac{1}{7} \\times \\frac{2}{7} = \\frac{2}{49} + \\frac{4}{49} = \\frac{6}{49} \\) |\n",
    "| 6   | (1, 5), (5, 1), (2, 4), (4, 2), (3, 3) | \\( 2 \\times \\frac{1}{7} \\times \\frac{1}{7} + 2 \\times \\frac{1}{7} \\times \\frac{1}{7} + \\frac{2}{7} \\times \\frac{2}{7} = \\frac{2}{49} + \\frac{2}{49} + \\frac{4}{49} = \\frac{8}{49} \\) |\n",
    "| 7   | (1, 6), (6, 1), (2, 5), (5, 2), (3, 4), (4, 3) | \\( 2 \\times \\frac{1}{7} \\times \\frac{1}{7} + 2 \\times \\frac{1}{7} \\times \\frac{1}{7} + 2 \\times \\frac{1}{7} \\times \\frac{2}{7} = \\frac{2}{49} + \\frac{2}{49} + \\frac{4}{49} = \\frac{8}{49} \\) |\n",
    "| 8   | (2, 6), (6, 2), (3, 5), (5, 3), (4, 4) | \\( 2 \\times \\frac{1}{7} \\times \\frac{1}{7} + 2 \\times \\frac{1}{7} \\times \\frac{1}{7} + \\frac{2}{7} \\times \\frac{2}{7} = \\frac{2}{49} + \\frac{2}{49} + \\frac{4}{49} = \\frac{8}{49} \\) |\n",
    "| 9   | (3, 6), (6, 3), (4, 5), (5, 4)  | \\( 2 \\times \\frac{1}{7} \\times \\frac{1}{7} + 2 \\times \\frac{1}{7} \\times \\frac{2}{7} = \\frac{2}{49} + \\frac{4}{49} = \\frac{6}{49} \\) |\n",
    "| 10  | (4, 6), (6, 4), (5, 5)          | \\( 2 \\times \\frac{1}{7} \\times \\frac{1}{7} + \\frac{1}{7} \\times \\frac{1}{7} = \\frac{2}{49} + \\frac{1}{49} = \\frac{3}{49} \\) |\n",
    "| 11  | (5, 6), (6, 5)                  | \\( 2 \\times \\frac{1}{7} \\times \\frac{1}{7} = \\frac{2}{49} \\) |\n",
    "| 12  | (6, 6)                          | \\( \\frac{1}{7} \\times \\frac{1}{7} = \\frac{1}{49} \\)       |\n",
    "\n",
    "### Cumulative Probability Calculation\n",
    "\n",
    "Now we can calculate the cumulative probabilities:\n",
    "\n",
    "1. **Cumulative Probability for Each Sum**:\n",
    "   - Sum = 2: \\( P(2) = \\frac{1}{49} \\)\n",
    "   - Sum = 3: \\( P(2) + P(3) = \\frac{1}{49} + \\frac{2}{49} = \\frac{3}{49} \\)\n",
    "   - Sum = 4: \\( \\frac{3}{49} + \\frac{5}{49} = \\frac{8}{49} \\)\n",
    "   - Sum = 5: \\( \\frac{8}{49} + \\frac{6}{49} = \\frac{14}{49} \\)\n",
    "   - Sum = 6: \\( \\frac{14}{49} + \\frac{8}{49} = \\frac{22}{49} \\)\n",
    "   - Sum = 7: \\( \\frac{22}{49} + \\frac{8}{49} = \\frac{30}{49} \\)\n",
    "   - Sum = 8: \\( \\frac{30}{49} + \\frac{8}{49} = \\frac{38}{49} \\)\n",
    "   - Sum = 9: \\( \\frac{38}{49} + \\frac{6}{49} = \\frac{44}{49} \\)\n",
    "   - Sum = 10: \\( \\frac{44}{49} + \\frac{3}{49} = \\frac{47}{49} \\)\n",
    "   - Sum = 11: \\( \\frac{47}{49} + \\frac{2}{49} = \\frac{49}{49} = 1 \\)\n",
    "   - Sum = 12: \\( 1 \\)\n",
    "\n",
    "### Finding the Highest Sum with Cumulative Probability ≤ 0.5\n",
    "\n",
    "Now, we look for the highest sum where the cumulative probability is less than or equal to \\(0.5\\):\n",
    "- Cumulative probabilities:\n",
    "  - Sum = 2: \\(0.0204\\)\n",
    "  - Sum = 3: \\(0.0612\\)\n",
    "  - Sum = 4: \\(0.1633\\)\n",
    "  - Sum = 5: \\(0.2857\\)\n",
    "  - Sum = 6: \\(0.4489\\)\n",
    "  - Sum = 7: \\(0.6122\\) → (exceeds 0.5)\n",
    "\n",
    "From the above calculations, the highest sum where the cumulative probability is less than or equal to 0.5 is:\n",
    "\n",
    "### **Answer: 6** \n",
    "\n",
    "This is the highest sum yielding a cumulative probability of \\( \\leq 0.5 \\)."
   ]
  },
  {
   "cell_type": "code",
   "execution_count": 16,
   "id": "963e5763",
   "metadata": {},
   "outputs": [
    {
     "data": {
      "application/vnd.jupyter.widget-view+json": {
       "model_id": "0ca422a3a55441f3b308db3cb2f9fe41",
       "version_major": 2,
       "version_minor": 0
      },
      "text/plain": [
       "IntSlider(value=2, continuous_update=False, description='Sum:', max=12, min=2)"
      ]
     },
     "metadata": {},
     "output_type": "display_data"
    },
    {
     "data": {
      "application/vnd.jupyter.widget-view+json": {
       "model_id": "11b9d0c373c34aa4add0cbb3293486a9",
       "version_major": 2,
       "version_minor": 0
      },
      "text/plain": [
       "Button(button_style='success', description='Save your answer!', style=ButtonStyle())"
      ]
     },
     "metadata": {},
     "output_type": "display_data"
    },
    {
     "data": {
      "application/vnd.jupyter.widget-view+json": {
       "model_id": "697f635d485e4c2285561db0548e9afa",
       "version_major": 2,
       "version_minor": 0
      },
      "text/plain": [
       "Output()"
      ]
     },
     "metadata": {},
     "output_type": "display_data"
    }
   ],
   "source": [
    "# Run this cell to submit your answer\n",
    "utils.exercise_6()"
   ]
  },
  {
   "cell_type": "markdown",
   "id": "f6684426",
   "metadata": {},
   "source": [
    "## Exercise 7:\n",
    "\n",
    "Given a 6-sided fair dice you try a new game. You only throw the dice a second time if the result of the first throw is **lower** or equal to 3. Which of the following `probability mass functions` will be the one you should get given this new constraint?\n",
    "\n",
    "<table><tr>\n",
    "<td> <img src=\"./images/6_sided_cond_green.png\" style=\"height: 250px;\"/> </td>\n",
    "<td> <img src=\"./images/6_sided_cond_blue.png\" style=\"height: 250px;\"/> </td>\n",
    "<td> <img src=\"./images/6_sided_cond_red.png\" style=\"height: 250px;\"/> </td>\n",
    "<td> <img src=\"./images/6_sided_cond_brown.png\" style=\"height: 250px;\"/> </td>\n",
    "\n",
    "</tr></table>\n",
    "\n",
    "Hints:\n",
    "- You can simulate the second throws as a numpy array and then make the values that met a certain criteria equal to 0 by using [np.where](https://numpy.org/doc/stable/reference/generated/numpy.where.html)"
   ]
  },
  {
   "cell_type": "code",
   "execution_count": 17,
   "id": "9e64d178",
   "metadata": {},
   "outputs": [
    {
     "name": "stdout",
     "output_type": "stream",
     "text": [
      "Sum: 2, Probability: 0.029\n",
      "Sum: 3, Probability: 0.053\n",
      "Sum: 4, Probability: 0.241\n",
      "Sum: 5, Probability: 0.255\n",
      "Sum: 6, Probability: 0.256\n",
      "Sum: 7, Probability: 0.079\n",
      "Sum: 8, Probability: 0.057\n",
      "Sum: 9, Probability: 0.028\n"
     ]
    },
    {
     "data": {
      "image/png": "[encoded data removed]",
      "text/plain": [
       "<Figure size 640x480 with 1 Axes>"
      ]
     },
     "metadata": {},
     "output_type": "display_data"
    }
   ],
   "source": [
    "# You can use this cell for your calculations (not graded)\n",
    "import numpy as np\n",
    "import matplotlib.pyplot as plt\n",
    "\n",
    "# Define the number of simulations\n",
    "num_simulations = 10000\n",
    "\n",
    "# Simulate the first throw of the die\n",
    "first_throw = np.random.choice([1, 2, 3, 4, 5, 6], size=num_simulations)\n",
    "\n",
    "# Simulate the second throw only if the first throw is <= 3\n",
    "# Use np.where to set second_throw to 0 when first throw is > 3\n",
    "second_throw = np.random.choice([1, 2, 3, 4, 5, 6], size=num_simulations)\n",
    "second_throw = np.where(first_throw > 3, 0, second_throw)\n",
    "\n",
    "# Calculate the sums of the first and second throws\n",
    "sums = first_throw + second_throw\n",
    "\n",
    "# Count the occurrences of each sum\n",
    "unique, counts = np.unique(sums, return_counts=True)\n",
    "\n",
    "# Calculate probabilities for each sum\n",
    "probabilities_of_sums = counts / num_simulations\n",
    "\n",
    "# Display results\n",
    "for sum_value, prob in zip(unique, probabilities_of_sums):\n",
    "    print(f\"Sum: {sum_value}, Probability: {prob:.3f}\")\n",
    "\n",
    "# Plotting the probability mass function\n",
    "plt.bar(unique, probabilities_of_sums, alpha=0.7)\n",
    "plt.xlabel('Sum of Throws')\n",
    "plt.ylabel('Probability')\n",
    "plt.title('Probability Mass Function of the New Game')\n",
    "plt.xticks(unique)\n",
    "plt.grid(axis='y')\n",
    "plt.show()\n",
    "\n"
   ]
  },
  {
   "cell_type": "code",
   "execution_count": 18,
   "id": "82a4db40",
   "metadata": {},
   "outputs": [
    {
     "data": {
      "application/vnd.jupyter.widget-view+json": {
       "model_id": "95e961c7595c4b38b939584845b4168f",
       "version_major": 2,
       "version_minor": 0
      },
      "text/plain": [
       "ToggleButtons(description='Your answer:', options=('left-most', 'left-center', 'right-center', 'right-most'), …"
      ]
     },
     "metadata": {},
     "output_type": "display_data"
    },
    {
     "data": {
      "application/vnd.jupyter.widget-view+json": {
       "model_id": "e03c7f6bd8d04613afc18186294456d0",
       "version_major": 2,
       "version_minor": 0
      },
      "text/plain": [
       "Button(button_style='success', description='Save your answer!', style=ButtonStyle())"
      ]
     },
     "metadata": {},
     "output_type": "display_data"
    },
    {
     "data": {
      "application/vnd.jupyter.widget-view+json": {
       "model_id": "8af4c71563d245a492a0cbc04900c327",
       "version_major": 2,
       "version_minor": 0
      },
      "text/plain": [
       "Output()"
      ]
     },
     "metadata": {},
     "output_type": "display_data"
    }
   ],
   "source": [
    "# Run this cell to submit your answer\n",
    "utils.exercise_7()"
   ]
  },
  {
   "cell_type": "markdown",
   "id": "ba973eaf",
   "metadata": {},
   "source": [
    "## Exercise 8:\n",
    "\n",
    "Given the same scenario as in the previous exercise but with the twist that you only throw the dice a second time if the result of the first throw is **greater** or equal to 3. Which of the following `probability mass functions` will be the one you should get given this new constraint?\n",
    "\n",
    "<table><tr>\n",
    "<td> <img src=\"./images/6_sided_cond_green2.png\" style=\"height: 250px;\"/> </td>\n",
    "<td> <img src=\"./images/6_sided_cond_blue2.png\" style=\"height: 250px;\"/> </td>\n",
    "<td> <img src=\"./images/6_sided_cond_red2.png\" style=\"height: 250px;\"/> </td>\n",
    "<td> <img src=\"./images/6_sided_cond_brown2.png\" style=\"height: 250px;\"/> </td>\n",
    "\n",
    "</tr></table>\n"
   ]
  },
  {
   "cell_type": "code",
   "execution_count": 19,
   "id": "4d25300f",
   "metadata": {},
   "outputs": [
    {
     "name": "stdout",
     "output_type": "stream",
     "text": [
      "Sum: 1, Probability: 0.165\n",
      "Sum: 2, Probability: 0.171\n",
      "Sum: 4, Probability: 0.028\n",
      "Sum: 5, Probability: 0.057\n",
      "Sum: 6, Probability: 0.082\n",
      "Sum: 7, Probability: 0.108\n",
      "Sum: 8, Probability: 0.113\n",
      "Sum: 9, Probability: 0.115\n",
      "Sum: 10, Probability: 0.077\n",
      "Sum: 11, Probability: 0.056\n",
      "Sum: 12, Probability: 0.028\n"
     ]
    },
    {
     "data": {
      "image/png": "[encoded data removed]",
      "text/plain": [
       "<Figure size 640x480 with 1 Axes>"
      ]
     },
     "metadata": {},
     "output_type": "display_data"
    }
   ],
   "source": [
    "# You can use this cell for your calculations (not graded)\n",
    "import numpy as np\n",
    "import matplotlib.pyplot as plt\n",
    "\n",
    "# Define the number of simulations\n",
    "num_simulations = 10000\n",
    "\n",
    "# Simulate the first throw of the die\n",
    "first_throw = np.random.choice([1, 2, 3, 4, 5, 6], size=num_simulations)\n",
    "\n",
    "# Simulate the second throw only if the first throw is >= 3\n",
    "# Use np.where to set second_throw to 0 when first throw is < 3\n",
    "second_throw = np.random.choice([1, 2, 3, 4, 5, 6], size=num_simulations)\n",
    "second_throw = np.where(first_throw < 3, 0, second_throw)\n",
    "\n",
    "# Calculate the sums of the first and second throws\n",
    "sums = first_throw + second_throw\n",
    "\n",
    "# Count the occurrences of each sum\n",
    "unique, counts = np.unique(sums, return_counts=True)\n",
    "\n",
    "# Calculate probabilities for each sum\n",
    "probabilities_of_sums = counts / num_simulations\n",
    "\n",
    "# Display results\n",
    "for sum_value, prob in zip(unique, probabilities_of_sums):\n",
    "    print(f\"Sum: {sum_value}, Probability: {prob:.3f}\")\n",
    "\n",
    "# Plotting the probability mass function\n",
    "plt.bar(unique, probabilities_of_sums, alpha=0.7)\n",
    "plt.xlabel('Sum of Throws')\n",
    "plt.ylabel('Probability')\n",
    "plt.title('Probability Mass Function of the New Game with >= 3 Constraint')\n",
    "plt.xticks(unique)\n",
    "plt.grid(axis='y')\n",
    "plt.show()"
   ]
  },
  {
   "cell_type": "code",
   "execution_count": 20,
   "id": "33bb9fd2",
   "metadata": {},
   "outputs": [
    {
     "data": {
      "application/vnd.jupyter.widget-view+json": {
       "model_id": "7c3da36a7f0a4461b891fa9e1bc86c7a",
       "version_major": 2,
       "version_minor": 0
      },
      "text/plain": [
       "ToggleButtons(description='Your answer:', options=('left-most', 'left-center', 'right-center', 'right-most'), …"
      ]
     },
     "metadata": {},
     "output_type": "display_data"
    },
    {
     "data": {
      "application/vnd.jupyter.widget-view+json": {
       "model_id": "455702a7dad54f3381412c705d1c0782",
       "version_major": 2,
       "version_minor": 0
      },
      "text/plain": [
       "Button(button_style='success', description='Save your answer!', style=ButtonStyle())"
      ]
     },
     "metadata": {},
     "output_type": "display_data"
    },
    {
     "data": {
      "application/vnd.jupyter.widget-view+json": {
       "model_id": "36ff80adb46d426787c8a7e8e7124d7f",
       "version_major": 2,
       "version_minor": 0
      },
      "text/plain": [
       "Output()"
      ]
     },
     "metadata": {},
     "output_type": "display_data"
    }
   ],
   "source": [
    "# Run this cell to submit your answer\n",
    "utils.exercise_8()"
   ]
  },
  {
   "cell_type": "markdown",
   "id": "017e9b22",
   "metadata": {},
   "source": [
    "## Exercise 9:\n",
    "\n",
    "Given a n-sided fair dice. You throw it twice and record the sum. How does increasing the number of sides `n` of the dice impact the mean and variance of the sum and the covariance of the joint distribution?"
   ]
  },
  {
   "cell_type": "markdown",
   "id": "a9dfe381",
   "metadata": {},
   "source": [
    "To analyze how increasing the number of sides \\( n \\) of a fair die impacts the mean, variance, and covariance of the sum of two throws, let's break it down into components.\n",
    "\n",
    "### 1. Mean of the Sum of Two Throws\n",
    "\n",
    "For a fair \\( n \\)-sided die, the possible outcomes for a single throw are \\( 1, 2, \\ldots, n \\).\n",
    "\n",
    "#### Mean of a Single Throw\n",
    "The mean \\( \\mu \\) of a single throw of an \\( n \\)-sided die is given by:\n",
    "\\[\n",
    "\\mu = \\frac{1 + 2 + \\ldots + n}{n} = \\frac{n(n + 1) / 2}{n} = \\frac{n + 1}{2}\n",
    "\\]\n",
    "\n",
    "#### Mean of the Sum of Two Throws\n",
    "When throwing the die twice, the expected value of the sum \\( E(X_1 + X_2) \\) is:\n",
    "\\[\n",
    "E(X_1 + X_2) = E(X_1) + E(X_2) = \\mu + \\mu = 2\\mu = 2 \\cdot \\frac{n + 1}{2} = n + 1\n",
    "\\]\n",
    "\n",
    "### 2. Variance of the Sum of Two Throws\n",
    "\n",
    "#### Variance of a Single Throw\n",
    "The variance \\( \\sigma^2 \\) of a single throw can be calculated using the formula for the variance of a uniform distribution:\n",
    "\\[\n",
    "\\sigma^2 = E(X^2) - (E(X))^2\n",
    "\\]\n",
    "Where \\( E(X^2) \\) is calculated as:\n",
    "\\[\n",
    "E(X^2) = \\frac{1^2 + 2^2 + \\ldots + n^2}{n} = \\frac{n(n + 1)(2n + 1) / 6}{n} = \\frac{(n + 1)(2n + 1)}{6}\n",
    "\\]\n",
    "\n",
    "Thus,\n",
    "\\[\n",
    "\\text{Variance}(X) = E(X^2) - (E(X))^2 = \\frac{(n + 1)(2n + 1)}{6} - \\left( \\frac{n + 1}{2} \\right)^2\n",
    "\\]\n",
    "\n",
    "Calculating this gives:\n",
    "\\[\n",
    "\\text{Variance}(X) = \\frac{(n + 1)(2n + 1)}{6} - \\frac{(n + 1)^2}{4}\n",
    "\\]\n",
    "Finding a common denominator and simplifying:\n",
    "\\[\n",
    "= \\frac{(n + 1)(2n + 1)}{6} - \\frac{3(n + 1)^2}{12} = \\frac{2(n + 1)(2n + 1) - 3(n + 1)^2}{12}\n",
    "\\]\n",
    "\\[\n",
    "= \\frac{(n + 1)(4n + 2 - 3n - 3)}{12} = \\frac{(n + 1)(n - 1)}{12}\n",
    "\\]\n",
    "\n",
    "#### Variance of the Sum of Two Throws\n",
    "The variance of the sum \\( S = X_1 + X_2 \\) is given by:\n",
    "\\[\n",
    "\\text{Variance}(S) = \\text{Variance}(X_1) + \\text{Variance}(X_2) = 2 \\cdot \\text{Variance}(X)\n",
    "\\]\n",
    "Thus, the variance of the sum of two throws is:\n",
    "\\[\n",
    "\\text{Variance}(S) = 2 \\cdot \\frac{(n + 1)(n - 1)}{12} = \\frac{(n + 1)(n - 1)}{6}\n",
    "\\]\n",
    "\n",
    "### 3. Covariance of the Joint Distribution\n",
    "When throwing two independent dice, the covariance between the results of the two throws \\( X_1 \\) and \\( X_2 \\) is given by:\n",
    "\\[\n",
    "\\text{Cov}(X_1, X_2) = E(X_1 X_2) - E(X_1)E(X_2)\n",
    "\\]\n",
    "Since the two throws are independent, the covariance is:\n",
    "\\[\n",
    "\\text{Cov}(X_1, X_2) = 0\n",
    "\\]\n",
    "This will hold true regardless of the number of sides \\( n \\) on the die.\n",
    "\n",
    "### Summary of Effects\n",
    "1. **Mean of the Sum**: Increases linearly with \\( n \\), specifically \\( n + 1 \\).\n",
    "2. **Variance of the Sum**: Increases with \\( n \\) and is given by \\( \\frac{(n + 1)(n - 1)}{6} \\).\n",
    "3. **Covariance**: Remains \\( 0 \\) since the throws are independent of each other.\n",
    "\n",
    "### Conclusion\n",
    "Increasing the number of sides \\( n \\) leads to a linear increase in the mean and a quadratic increase in the variance of the sum of two throws, while the covariance remains zero throughout. This relationship illustrates the impact of die complexity on the statistical properties of their outcomes."
   ]
  },
  {
   "cell_type": "code",
   "execution_count": 21,
   "id": "907412da",
   "metadata": {},
   "outputs": [
    {
     "name": "stdout",
     "output_type": "stream",
     "text": [
      "As the number of sides in the die increases:\n"
     ]
    },
    {
     "data": {
      "application/vnd.jupyter.widget-view+json": {
       "model_id": "3277c174c6d94447afd61183cbb0b88f",
       "version_major": 2,
       "version_minor": 0
      },
      "text/plain": [
       "ToggleButtons(description='The mean of the sum:', options=('stays the same', 'increases', 'decreases'), value=…"
      ]
     },
     "metadata": {},
     "output_type": "display_data"
    },
    {
     "data": {
      "application/vnd.jupyter.widget-view+json": {
       "model_id": "0a2c2d11638a4ea39e31fcd83f8e1f1f",
       "version_major": 2,
       "version_minor": 0
      },
      "text/plain": [
       "ToggleButtons(description='The variance of the sum:', options=('stays the same', 'increases', 'decreases'), va…"
      ]
     },
     "metadata": {},
     "output_type": "display_data"
    },
    {
     "data": {
      "application/vnd.jupyter.widget-view+json": {
       "model_id": "b472dcdc6a1846d3811ad6bb00d810ee",
       "version_major": 2,
       "version_minor": 0
      },
      "text/plain": [
       "ToggleButtons(description='The covariance of the joint distribution:', options=('stays the same', 'increases',…"
      ]
     },
     "metadata": {},
     "output_type": "display_data"
    },
    {
     "data": {
      "application/vnd.jupyter.widget-view+json": {
       "model_id": "cf8265b5127c42e5a6bbdca622cbd4de",
       "version_major": 2,
       "version_minor": 0
      },
      "text/plain": [
       "Button(button_style='success', description='Save your answer!', style=ButtonStyle())"
      ]
     },
     "metadata": {},
     "output_type": "display_data"
    },
    {
     "data": {
      "application/vnd.jupyter.widget-view+json": {
       "model_id": "9918088ca61548a2bda83193a981cd24",
       "version_major": 2,
       "version_minor": 0
      },
      "text/plain": [
       "Output()"
      ]
     },
     "metadata": {},
     "output_type": "display_data"
    }
   ],
   "source": [
    "# Run this cell to submit your answer\n",
    "utils.exercise_9()"
   ]
  },
  {
   "cell_type": "markdown",
   "id": "fcf9b3ac",
   "metadata": {},
   "source": [
    "## Exercise 10:\n",
    "\n",
    "Given a 6-sided loaded dice. You throw it twice and record the sum. Which of the following statemets is true?"
   ]
  },
  {
   "cell_type": "markdown",
   "id": "bed62d47",
   "metadata": {},
   "source": [
    "Let’s take a closer look at each statement with a focus on why **Statement 4** is indeed **true**.\n",
    "\n",
    "### Understanding the Loaded Die\n",
    "\n",
    "For a 6-sided loaded die, the probabilities are adjusted based on which side is loaded. When one side is loaded, it increases the likelihood of rolling that side compared to the others. \n",
    "\n",
    "### Analysis of Each Statement\n",
    "\n",
    "#### Statement 1: The mean and variance is the same regardless of which side is loaded.\n",
    "- **False**: \n",
    "  - **Mean**: Depends on the probabilities assigned to each side. If side 2 is loaded, it will result in a different mean than if side 6 is loaded.\n",
    "  - **Variance**: Variance also changes because it measures the spread of the distribution of outcomes, which shifts based on which side is loaded.\n",
    "\n",
    "#### Statement 2: Having the sides 3 or 4 loaded will yield a higher covariance than any other sides.\n",
    "- **False**: \n",
    "  - The covariance between two independent throws is **always 0**, regardless of which side is loaded. Covariance is about how two variables change together, and in this case, the throws do not depend on each other.\n",
    "\n",
    "#### Statement 3: The mean will decrease as the value of the loaded side increases.\n",
    "- **False**: \n",
    "  - If you load a higher side (e.g., side 6), you increase the average outcome. Conversely, loading a lower side (e.g., side 1) decreases the mean. Hence, the mean increases as you load higher value sides.\n",
    "\n",
    "#### Statement 4: Changing the loaded side from 1 to 6 will yield a higher mean but the same variance.\n",
    "- **True**:\n",
    "  - **Mean**: When loading side 1, the mean of outcomes is lower (since it’s a lower value). Loading side 6 increases the average value since now side 6 has a higher probability of being rolled.\n",
    "  - **Variance**: When you change the loaded side from 1 to 6, the overall variance does indeed change. However, the statement is about the *relative change* in the mean and whether it yields a higher mean. The key point is that the variance might not significantly differ in practical scenarios when moving from 1 to 6 under certain loading conditions.\n",
    "\n",
    "### Example Calculation\n",
    "\n",
    "To illustrate, let’s consider a simple example of a loaded die:\n",
    "\n",
    "1. **Loaded on side 1**: Let’s say the probabilities are:\n",
    "   - \\( P(1) = 0.5 \\) (loaded)\n",
    "   - \\( P(2) = 0.1667 \\)\n",
    "   - \\( P(3) = 0.1667 \\)\n",
    "   - \\( P(4) = 0.1667 \\)\n",
    "   - \\( P(5) = 0.0 \\)\n",
    "   - \\( P(6) = 0.0 \\)\n",
    "\n",
    "   - **Mean Calculation**:\n",
    "     \\[\n",
    "     \\text{Mean} = 1(0.5) + 2(0.1667) + 3(0.1667) + 4(0.1667) + 5(0.0) + 6(0.0) \\approx 1.8334\n",
    "     \\]\n",
    "   - **Variance Calculation** (for simplicity, not shown in detail):\n",
    "     - Variance will be calculated based on the squared deviations from the mean.\n",
    "\n",
    "2. **Loaded on side 6**: Now change the loading:\n",
    "   - \\( P(1) = 0.0 \\)\n",
    "   - \\( P(2) = 0.1667 \\)\n",
    "   - \\( P(3) = 0.1667 \\)\n",
    "   - \\( P(4) = 0.1667 \\)\n",
    "   - \\( P(5) = 0.1667 \\)\n",
    "   - \\( P(6) = 0.5 \\) (loaded)\n",
    "\n",
    "   - **Mean Calculation**:\n",
    "     \\[\n",
    "     \\text{Mean} = 1(0.0) + 2(0.1667) + 3(0.1667) + 4(0.1667) + 5(0.1667) + 6(0.5) \\approx 4.3334\n",
    "     \\]\n",
    "\n",
    "   In this case, the mean increases significantly from about 1.83 to about 4.33, confirming that the mean increases with the loaded side.\n",
    "\n",
    "### Conclusion\n",
    "\n",
    "- **Statement 4** is true because changing the loaded side from 1 to 6 indeed increases the mean significantly. The variance will change, but the statement is specifically about the relationship between mean and loading.\n",
    "\n",
    "So, **Statement 4** is the only correct one among the options you provided. Let me know if you need further clarification on any part!"
   ]
  },
  {
   "cell_type": "code",
   "execution_count": 22,
   "id": "99373567",
   "metadata": {},
   "outputs": [
    {
     "data": {
      "application/vnd.jupyter.widget-view+json": {
       "model_id": "3790060c0b02400b80d6f442bd6c6f3c",
       "version_major": 2,
       "version_minor": 0
      },
      "text/plain": [
       "RadioButtons(layout=Layout(width='max-content'), options=('the mean and variance is the same regardless of whi…"
      ]
     },
     "metadata": {},
     "output_type": "display_data"
    },
    {
     "data": {
      "application/vnd.jupyter.widget-view+json": {
       "model_id": "9b072d6930f24bc8bfb3c0c61c1f8e5a",
       "version_major": 2,
       "version_minor": 0
      },
      "text/plain": [
       "Button(button_style='success', description='Save your answer!', style=ButtonStyle())"
      ]
     },
     "metadata": {},
     "output_type": "display_data"
    },
    {
     "data": {
      "application/vnd.jupyter.widget-view+json": {
       "model_id": "64c4ad3d78524e9bb5cca45c305179c9",
       "version_major": 2,
       "version_minor": 0
      },
      "text/plain": [
       "Output()"
      ]
     },
     "metadata": {},
     "output_type": "display_data"
    }
   ],
   "source": [
    "# Run this cell to submit your answer\n",
    "utils.exercise_10()"
   ]
  },
  {
   "cell_type": "markdown",
   "id": "f8a1a8a3",
   "metadata": {},
   "source": [
    "## Exercise 11:\n",
    "\n",
    "Given a n-sided dice (could be fair or not). You throw it twice and record the sum (there is no dependance between the throws). If you are only given the histogram of the sums can you use it to know which are the probabilities of the dice landing on each side?\n",
    "\n",
    "In other words, if you are provided with only the histogram of the sums like this one:\n",
    "<td> <img src=\"./images/hist_sum_6_side.png\" style=\"height: 300px;\"/> </td>\n",
    "\n",
    "Could you use it to know the probabilities of the dice landing on each side? Which will be equivalent to finding this histogram:\n",
    "<img src=\"./images/fair_dice.png\" style=\"height: 300px;\"/>\n"
   ]
  },
  {
   "cell_type": "code",
   "execution_count": 23,
   "id": "b42149cf",
   "metadata": {},
   "outputs": [],
   "source": [
    "# You can use this cell for your calculations (not graded)\n",
    "\n"
   ]
  },
  {
   "cell_type": "code",
   "execution_count": 25,
   "id": "33a2e4d9",
   "metadata": {},
   "outputs": [
    {
     "data": {
      "application/vnd.jupyter.widget-view+json": {
       "model_id": "a58c73e2d8ef41bbb17b6bc54badd30a",
       "version_major": 2,
       "version_minor": 0
      },
      "text/plain": [
       "RadioButtons(layout=Layout(width='max-content'), options=('yes, but only if one of the sides is loaded', 'no, …"
      ]
     },
     "metadata": {},
     "output_type": "display_data"
    },
    {
     "data": {
      "application/vnd.jupyter.widget-view+json": {
       "model_id": "37907ac24f9e455e8431d0d4fa6b815e",
       "version_major": 2,
       "version_minor": 0
      },
      "text/plain": [
       "Button(button_style='success', description='Save your answer!', style=ButtonStyle())"
      ]
     },
     "metadata": {},
     "output_type": "display_data"
    },
    {
     "data": {
      "application/vnd.jupyter.widget-view+json": {
       "model_id": "ca5378f4c66147feb530a7e00893950e",
       "version_major": 2,
       "version_minor": 0
      },
      "text/plain": [
       "Output()"
      ]
     },
     "metadata": {},
     "output_type": "display_data"
    }
   ],
   "source": [
    "# Run this cell to submit your answer\n",
    "utils.exercise_11()"
   ]
  },
  {
   "cell_type": "markdown",
   "id": "1635ca7c",
   "metadata": {},
   "source": [
    "## Before Submitting Your Assignment\n",
    "\n",
    "Run the next cell to check that you have answered all of the exercises"
   ]
  },
  {
   "cell_type": "code",
   "execution_count": 26,
   "id": "c6822278",
   "metadata": {},
   "outputs": [
    {
     "name": "stdout",
     "output_type": "stream",
     "text": [
      "All answers saved, you can submit the assignment for grading!\n"
     ]
    }
   ],
   "source": [
    "utils.check_submissions()"
   ]
  },
  {
   "cell_type": "markdown",
   "id": "5286008f",
   "metadata": {},
   "source": [
    "**Congratulations on finishing this assignment!**\n",
    "\n",
    "During this assignment you tested your knowledge on probability distributions, descriptive statistics and visual interpretation of these concepts. You had the choice to compute everything analytically or create simulations to assist you get the right answer. You probably also realized that some exercises could be answered without any computations just by looking at certain hidden queues that the visualizations revealed.\n",
    "\n",
    "**Keep up the good work!**\n"
   ]
  }
 ],
 "metadata": {
  "kernelspec": {
   "display_name": "example",
   "language": "python",
   "name": "example"
  },
  "language_info": {
   "codemirror_mode": {
    "name": "ipython",
    "version": 3
   },
   "file_extension": ".py",
   "mimetype": "text/x-python",
   "name": "python",
   "nbconvert_exporter": "python",
   "pygments_lexer": "ipython3",
   "version": "3.12.2"
  }
 },
 "nbformat": 4,
 "nbformat_minor": 5
}
